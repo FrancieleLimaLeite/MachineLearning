{
 "cells": [
  {
   "cell_type": "code",
   "execution_count": 1,
   "id": "efficient-knight",
   "metadata": {},
   "outputs": [],
   "source": [
    "import requests\n",
    "from bs4 import BeautifulSoup"
   ]
  },
  {
   "cell_type": "code",
   "execution_count": 2,
   "id": "bright-crossing",
   "metadata": {},
   "outputs": [],
   "source": [
    "headers = {'User-Agent':'Mozilla/5.0 (Windows NT 10.0; WOW64; Trident/7.0; rv:11.0) like Gecko'}"
   ]
  },
  {
   "cell_type": "code",
   "execution_count": 3,
   "id": "married-charger",
   "metadata": {},
   "outputs": [],
   "source": [
    "page = requests.get(\"https://www.google.com/search?q=dolar&source=hp&ei=Gk3BYMSXOPLf1sQP38Ox6A0&iflsig=AINFCbYAAAAAYMFbKvTlgBVrR0zuS_htqjoKYQAY7klP&oq=do&gs_lcp=Cgdnd3Mtd2l6EAEYADIICAAQsQMQgwEyCAgAELEDEIMBMgUILhCxAzIFCAAQsQMyBQgAELEDMggILhCxAxCDATICCAAyCAguELEDEIMBMgsILhCxAxDHARCvATIICC4QxwEQowIyCAguEMcBEKMCMgUIABCxAzIFCAAQsQMyCAgAELEDEIMBMgIIADoOCC4QsQMQxwEQowIQkwI6DgguELEDEIMBEMcBEK8BUKcXWNAXYIs7aABwAHgAgAGlBIgBkAWSAQcwLjEuNS0xmAEAoAEBqgEHZ3dzLXdpeg&sclient=gws-wiz#spf=1623280932148\",headers=headers)"
   ]
  },
  {
   "cell_type": "code",
   "execution_count": 4,
   "id": "naked-baseball",
   "metadata": {},
   "outputs": [],
   "source": [
    "soup = BeautifulSoup(page.content,'html.parser')\n",
    "\n",
    "dolar = soup.find_all('span', class_='DFlfde SwHCTb')[0]"
   ]
  },
  {
   "cell_type": "code",
   "execution_count": 5,
   "id": "hydraulic-rotation",
   "metadata": {},
   "outputs": [
    {
     "data": {
      "text/plain": [
       "<span class=\"DFlfde SwHCTb\" data-precision=\"2\" data-value=\"5.2459999999999996\">5,25</span>"
      ]
     },
     "execution_count": 5,
     "metadata": {},
     "output_type": "execute_result"
    }
   ],
   "source": [
    "dolar"
   ]
  },
  {
   "cell_type": "code",
   "execution_count": 6,
   "id": "rapid-slide",
   "metadata": {},
   "outputs": [
    {
     "data": {
      "text/plain": [
       "'5.2459999999999996'"
      ]
     },
     "execution_count": 6,
     "metadata": {},
     "output_type": "execute_result"
    }
   ],
   "source": [
    "dolar['data-value']"
   ]
  },
  {
   "cell_type": "code",
   "execution_count": null,
   "id": "personal-bibliography",
   "metadata": {},
   "outputs": [],
   "source": []
  }
 ],
 "metadata": {
  "kernelspec": {
   "display_name": "Python 3 (ipykernel)",
   "language": "python",
   "name": "python3"
  },
  "language_info": {
   "codemirror_mode": {
    "name": "ipython",
    "version": 3
   },
   "file_extension": ".py",
   "mimetype": "text/x-python",
   "name": "python",
   "nbconvert_exporter": "python",
   "pygments_lexer": "ipython3",
   "version": "3.9.2"
  }
 },
 "nbformat": 4,
 "nbformat_minor": 5
}
